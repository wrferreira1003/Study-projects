{
 "cells": [
  {
   "cell_type": "code",
   "execution_count": 25,
   "id": "38dc6433",
   "metadata": {},
   "outputs": [],
   "source": [
    "import pandas as pd\n",
    "import tweepy as tw\n",
    "import time\n",
    "import sqlite3"
   ]
  },
  {
   "cell_type": "code",
   "execution_count": 22,
   "id": "e58f9ec5",
   "metadata": {},
   "outputs": [],
   "source": [
    "consumer_key= 'Sg6ASDPot7uYbmXQ3ksqIvd5N'\n",
    "consumer_secret = 's7nlTBSUeWYmWpL42b9X7feMnLhfZjlpDomhTB3PakY40XlxfP'\n",
    "bearer_token = 'AAAAAAAAAAAAAAAAAAAAAC4ofgEAAAAA6cha%2B5oOuOPRzEI2ska58Pvpqsc%3DAAM5eMGMWZjcbplPfhEMwdRKgQU8UPUt8rftEqaw7EUnSZfSbD'\n",
    "acess_token = '1487773725034520585-laR8tyP0HOdpNvG4f2vesCBsgM3jy4'\n",
    "acess_token_secret= 'KFUBFfpte6Zmp2rbYdCKgiq7YEgjgjbbhe9nRQLTCWvWT'"
   ]
  },
  {
   "cell_type": "code",
   "execution_count": 24,
   "id": "a6060a1e",
   "metadata": {},
   "outputs": [],
   "source": [
    "#Conectando ao Tweet\n",
    "cliente = tw.Client(bearer_token, consumer_key, consumer_secret, acess_token, acess_token_secret)"
   ]
  },
  {
   "cell_type": "code",
   "execution_count": 26,
   "id": "56396788",
   "metadata": {},
   "outputs": [],
   "source": [
    "#Criação do Banco de dados SQLITE\n",
    "\n",
    "con = sqlite3.connect('BD_Americanas_SA')\n",
    "cur = con.cursor()"
   ]
  },
  {
   "cell_type": "code",
   "execution_count": 47,
   "id": "cca31b10",
   "metadata": {},
   "outputs": [],
   "source": [
    "#Consultando os Tweets\n",
    "resposta = cliente.search_recent_tweets(\"#Eleiçoes2022\", max_results=100)"
   ]
  },
  {
   "cell_type": "code",
   "execution_count": 48,
   "id": "a777fbe9",
   "metadata": {},
   "outputs": [],
   "source": [
    "dados = resposta.data"
   ]
  },
  {
   "cell_type": "code",
   "execution_count": 49,
   "id": "9f4930bf",
   "metadata": {},
   "outputs": [
    {
     "data": {
      "text/plain": [
       "Response(data=[<Tweet id=1554830051127939073 text='Dose de reforço no braço... 🙏🏻\\nE me valendo da máxima: ao PT eu tenho críticas (muitas), a Bolsonaro (e tudo o que ele representa) eu tenho repulsa. \\n#LulaNo1ºTurno #Eleicoes2022 #VivaOSuS  #vacinasim #elenão #ForaBolsonaro https://t.co/QflqUcw4fU'>, <Tweet id=1554829857132908545 text='Crime de ódio político, ocultação e destruição de provas, Quem é a polícia Cúmplice da morte de Marcelo? Cometido por um Bolsonaristas #Eleicoes2022 https://t.co/kEn1FYKWKp'>, <Tweet id=1554829802850308097 text='RT @BancariosPb: Mais de 200 organizações, encaminharam, uma Carta ao Congresso Nacional, com repúdio aos “constantes ataques” que Bolsonar…'>, <Tweet id=1554829630309146633 text='Quem deseja ter os códigos fontes das #urnaseletronicas talvez desejam frauda-las em edição. Não dá pra confiar nesse povo de #Bolsonaro, olho vivo!\\nQueremos #Militares fora do governo e da política!!!\\n#Eleicoes2022\\n#forçasarmadas\\n@TSEjusbr  \\n@STF_oficial\\nhttps://t.co/npISbT4yyj'>, <Tweet id=1554829484234182657 text='Faltam 60 dias para o 1º turno das #Eleicoes2022.\\n\\nFaltam 151 dias, 2 horas e 59 minutos para o fim do governo do Medíocre. https://t.co/4mGoBd0EIg'>, <Tweet id=1554829348598820864 text='RT @TSEjusbr: #Eleições2022 Inspeção do código-fonte das urnas eletrônicas pelas entidades fiscalizadoras segue aberto até a lacração dos s…'>, <Tweet id=1554829142050254855 text='Comentário: em que pé está a vice de @acmneto_ na cotação do conclave; ouça - Band Notícias BA \\n\\n#Eleicoes2022 \\n\\nhttps://t.co/A5lDtFN3RI'>, <Tweet id=1554828847547162625 text='RT @VemPraRua_br: Fica esperto com o que político diz e promete principalmente na época de campanhas eleitorais. #Eleicoes2022 https://t.co…'>, <Tweet id=1554828706555736069 text='RT @NoticiasRedetv: Tarcísio de Freitas lidera intenções de voto em cenário espontâneo em SP\\n\\n- Candidato é apoiado pelo presidente Jair Bo…'>, <Tweet id=1554828537294508033 text='@pauloteixeira13 Ja!\\nQuem ainda nao assinou, clica aqui👇\\n\\nJa assinaram a CARTA PELA DEMOCRACIA? Aqui o link https://t.co/HWgN1gTGia\\n#Eleições2022'>, <Tweet id=1554828025207721984 text='RT @tvalmg: Engajamento de #jovens pode gerar nas #Eleicoes2022 a menor abstenção da história? Diretor da @quaestpesquisa e professor da @u…'>, <Tweet id=1554827560587972618 text='E aí Barrosinho, ministrinho do #TSEVergonhaNacional? Carlos Lupi está errado?\\n#BolsonaroReeleitoNoPrimeiroTurno #FFAA #Eleições2022 https://t.co/e0CvypFV84'>, <Tweet id=1554827544607834112 text='No ano de eleição presidencial vão lançar 2 filmes do Pinóquio.\\n\\nEu não poderia esperar menos de 2022\\n\\n#eleições2022 #pinóquio'>, <Tweet id=1554827174611365888 text='Engajamento de #jovens pode gerar nas #Eleicoes2022 a menor abstenção da história? Diretor da @quaestpesquisa e professor da @ufmg, @felipnunes analisa papel do voto facultativo.⬇️ \\nE➡️temos reportagem completa sobre perfil do eleitorado/@TSEjusbr : https://t.co/PtfkhWa75a. https://t.co/WYdbPm0DLY'>, <Tweet id=1554827174091300864 text='Bolsonaro Claims He Believes He Could Be Arrested If He Leaves Brazil Presidency\\n\\n#politics #brazil #BrazilianPolitics #democracy #eleições #eleições2022 https://t.co/AuaOywR36S via @folha'>, <Tweet id=1554827009183735808 text='Mais de 200 organizações, encaminharam, uma Carta ao Congresso Nacional, com repúdio aos “constantes ataques” que Bolsonaro e seus seguidores “vêm desferindo contra o processo eleitoral brasileiro, a Justiça Eleitoral e seus juízes e servidores”. #Eleicoes2022 @DeLindonjhonson https://t.co/JAiruNU0nA'>, <Tweet id=1554826647395639302 text='RT @esquerdaFede: Adélio... PCC... PT... Tudo começa a se encaixar. #eleições2022 #Globolixo https://t.co/Efwvq1TKgy'>, <Tweet id=1554826587547176960 text='RT @SofiaManzanoPCB: Acesse na íntegra o programa político do @PCBpartidao para as eleições presidenciais de 2022!\\n#SofiaManzano\\n#Eleicoes2…'>, <Tweet id=1554826387705409536 text='RT @neto_coutinho_: Lembrando que o voto em trânsito só é válido para quem está em território brasileiro! \\n#Eleicoes2022 #aracaju #sergipe…'>, <Tweet id=1554826287050436610 text='#ELEIÇÕES2022 | Nova rodada da pesquisa Genial/Quaest aponta Lula com 44% das intenções de voto. Bolsonaro com 32%. Confira: https://t.co/531wrumdhs'>, <Tweet id=1554826242016219139 text='#eleicoes2022 #batmandopovo1554 #batmanarthurmoura #arthur #jesus\\nhttps://t.co/9pVadA0jBC'>, <Tweet id=1554826168523583489 text='RT @em_com: NOVA PESQUISA GENIAL/QUAEST\\nLula tem 44% das intenções de voto contra 32% de Bolsonaro no primeiro turno. Petista poderia vence…'>, <Tweet id=1554825837765021698 text='#ampulheta #bolsonaro #bolsonaropresoamanha #Brasil #Charge #eleições2022 #JairBolsonaro #nacadeiaem2023 #Tempo\\n\\nhttps://t.co/NC6W4w48PH https://t.co/3FBN9lDJ5A'>, <Tweet id=1554825830097833984 text='\"No tabuleiro da baiana tem...\"\\nTem #EleNao! Tem indignação! Tem luta! Tem Ludimilla Teixeira!\\n#FORABOLSONARO #forabolsonarogenocida #elenão #bolsonaronuncamais #mucb #mulheresunidascontrabolsonaro #lula #lulapresidente2022 #psol50 #LudimillaTeixeira #eleicoes2022 #candidata https://t.co/QZ5v8vnPNC'>, <Tweet id=1554825672744321031 text='Todas as pessoas com dificuldade de locomoção (Pessoas com Deficiência Física e Pessoas com Mobilidade Reduzida) podem solicitar à Justiça Eleitoral para votar em uma seção adaptada com acessibilidade. #Eleições2022  https://t.co/8P4sRNY0Aw'>, <Tweet id=1554825597905383426 text='Noite de oficialização das candidaturas 2022 na Bahia. 29 de jul. de 2022\\n\\n#FORABOLSONARO #forabolsonarogenocida #elenão #bolsonaronuncamais #mucb #mulheresunidascontrabolsonaro #lula #lulapresidente2022 #psol50 #LudimillaTeixeira #eleicoes2022 #candidata #Bahia #MulherNaPolitica https://t.co/tznF3P6odg'>, <Tweet id=1554825592180117505 text='RT @choquei: 🚨URGENTE: Serviços de Inteligência do Brasil suspeitam de uma organização de um atentado no 7 de setembro planejado pela direi…'>, <Tweet id=1554825100834197506 text='RT @em_com: PESQUISA DO INSTITUTO F5 \\nCom apoio de Lula e Kalil, Alexandre Silveira abre vantagem na disputa ao Senado. Em cenário que asso…'>, <Tweet id=1554825064427663361 text='RT @SofiaManzanoPCB: Acesse na íntegra o programa político do @PCBpartidao para as eleições presidenciais de 2022!\\n#SofiaManzano\\n#Eleicoes2…'>, <Tweet id=1554824962346782722 text='#Eleições2022: Pesquisa Quaest para presidente aponta Lula na liderança com 44% e Bolsonaro tem 32% https://t.co/LTNiQBWEAM'>, <Tweet id=1554824932424527878 text='RT @gazetadopovo: Bolsonaro afirma que pretende comparecer aos debates eleitorais: https://t.co/1T1he3fiF0\\n\\n@gprepublica #Eleições2022'>, <Tweet id=1554824867723112448 text='Lembrando que o voto em trânsito só é válido para quem está em território brasileiro! \\n#Eleicoes2022 #aracaju #sergipe https://t.co/SgHkH5Od09'>, <Tweet id=1554824393523662849 text='RT @VemPraRua_br: Fica esperto com o que político diz e promete principalmente na época de campanhas eleitorais. #Eleicoes2022 https://t.co…'>, <Tweet id=1554824333234581505 text='RT @choquei: 🚨URGENTE: Serviços de Inteligência do Brasil suspeitam de uma organização de um atentado no 7 de setembro planejado pela direi…'>, <Tweet id=1554824084055175169 text='RT @VemPraRua_br: Fica esperto com o que político diz e promete principalmente na época de campanhas eleitorais. #Eleicoes2022 https://t.co…'>, <Tweet id=1554824033006387200 text='#Eleições2022: Pesquisa Quaest para presidente aponta Lula na liderança com 44% e Bolsonaro tem 32% https://t.co/hgjRbzVBzK'>, <Tweet id=1554824017382711296 text='RT @SofiaManzanoPCB: Acesse na íntegra o programa político do @PCBpartidao para as eleições presidenciais de 2022!\\n#SofiaManzano\\n#Eleicoes2…'>, <Tweet id=1554824016304738304 text='#Eleições2022: Pesquisa Quaest para presidente aponta Lula na liderança com 44% e Bolsonaro tem 32% https://t.co/LTNiQBWEAM'>, <Tweet id=1554824007798571010 text='RT @choquei: 🚨URGENTE: Serviços de Inteligência do Brasil suspeitam de uma organização de um atentado no 7 de setembro planejado pela direi…'>, <Tweet id=1554823708463706112 text='“Ai pq vc não percebeu que ninguém gosta dele, significa que ele é bom” \\nGente como assim bom, se a maioria não gosta é pq é ruim mesmo e ponto, aff bolsonaristas babam ovo demais #Eleicoes2022'>, <Tweet id=1554823649504501760 text='RT @VemPraRua_br: Alguém avisa que Roberto está impedido. #Eleicoes2022 https://t.co/AFvLVQ2mPF'>, <Tweet id=1554823612233703424 text='RT @VemPraRua_br: Alguém avisa que Roberto está impedido. #Eleicoes2022 https://t.co/AFvLVQ2mPF'>, <Tweet id=1554823550061748225 text='RT @choquei: 🚨URGENTE: Serviços de Inteligência do Brasil suspeitam de uma organização de um atentado no 7 de setembro planejado pela direi…'>, <Tweet id=1554823544298541058 text='RT @VemPraRua_br: Alguém avisa que Roberto está impedido. #Eleicoes2022 https://t.co/AFvLVQ2mPF'>, <Tweet id=1554823403667951616 text='RT @gazetadopovo: Genial/Quaest: veja os números da nova rodada da pesquisa presidencial:  https://t.co/QVfnRc5dtW\\n\\n@gprepublica #Eleições2…'>, <Tweet id=1554823341973704711 text='RT @VemPraRua_br: Alguém avisa que Roberto está impedido. #Eleicoes2022 https://t.co/AFvLVQ2mPF'>, <Tweet id=1554823335619338243 text='RT @VemPraRua_br: Fica esperto com o que político diz e promete principalmente na época de campanhas eleitorais. #Eleicoes2022 https://t.co…'>, <Tweet id=1554823334365478912 text='RT @VemPraRua_br: Alguém avisa que Roberto está impedido. #Eleicoes2022 https://t.co/AFvLVQ2mPF'>, <Tweet id=1554823332972969984 text='Político afirmou que não disputará nenhum outro cargo eletivo em 2022.\\n\\nhttps://t.co/E5eGd4MWXV\\n\\n#diaonline #goiás #política #eleições #eleições2022'>, <Tweet id=1554823094602108931 text='RT @NoticiasRedetv: Democracia Cristã oficializa candidatura de Eymael à Presidência\\n\\n- É a sexta vez que o candidato concorre à Presidênci…'>, <Tweet id=1554822959977693184 text='Eu fecho com @MarceloFreixo e @alessandromolon no Rio #RiodeJaneiro #Eleicoes2022 https://t.co/4BDXau8ORZ'>, <Tweet id=1554822952113168386 text='Alguém avisa que Roberto está impedido. #Eleicoes2022 https://t.co/AFvLVQ2mPF'>, <Tweet id=1554822272195497984 text='RT @SofiaManzanoPCB: Acesse na íntegra o programa político do @PCBpartidao para as eleições presidenciais de 2022!\\n#SofiaManzano\\n#Eleicoes2…'>, <Tweet id=1554822161138950144 text='RT @rafaelbqo: #Eleicoes2022: QUEM LIDEROU, GANHOU\\n\\nA 2 meses do pleito presidencial, todos os pré candidatos que lideravam as pesquisas de…'>, <Tweet id=1554822156583944193 text='RT @choquei: 🚨URGENTE: Serviços de Inteligência do Brasil suspeitam de uma organização de um atentado no 7 de setembro planejado pela direi…'>, <Tweet id=1554821902975344640 text='#POLITICA | Nova pesquisa mostra Lula com 44% e Bolsonaro com 32%\\n\\n#portalpontual #lula #bolsonaro #eleições2022 #presidenciadarepública #pesquisaeleitoral #pesquisa #brasil\\n\\nhttps://t.co/09kVIzmrgB'>, <Tweet id=1554821770552586240 text='RT @em_com: NOVA PESQUISA GENIAL/QUAEST\\nLula tem 44% das intenções de voto contra 32% de Bolsonaro no primeiro turno. Petista poderia vence…'>, <Tweet id=1554821615296192514 text='RT @RICNoticias24h: O que são as convenções partidárias? A @manuniclewicz  explica! O projeto O Voto na RIC vai trazer informações, dicas e…'>, <Tweet id=1554821571935600641 text='Sem surpresa, Tadeu de Souza é o escolhido de David para ser vice na chapa de Wilson\\n\\nLeia mais em: https://t.co/hx7JHWJAaB\\n\\n#Eleicoes2022 #eleiçõesAM #vicegovernador #candidatura #chapa #WilsonLima https://t.co/WztEdlc1eE'>, <Tweet id=1554821526435663872 text='O @GugaNoblat fica chorando pq as Forças Armadas estão pedindo o código fonte agora e não a 10 meses atrás... será que ele não sabe o que é teste? \\nPor um tem q estar até uma semana antes da eleições de novo... sortear usar nas para ser analisadas e tudo mais. \\n#Eleicoes2022'>, <Tweet id=1554821052441808896 text='RT @choquei: 🚨URGENTE: Serviços de Inteligência do Brasil suspeitam de uma organização de um atentado no 7 de setembro planejado pela direi…'>, <Tweet id=1554820752309981189 text='RT @SofiaManzanoPCB: Acesse na íntegra o programa político do @PCBpartidao para as eleições presidenciais de 2022!\\n#SofiaManzano\\n#Eleicoes2…'>, <Tweet id=1554820737835274242 text='RT @SofiaManzanoPCB: Acesse na íntegra o programa político do @PCBpartidao para as eleições presidenciais de 2022!\\n#SofiaManzano\\n#Eleicoes2…'>, <Tweet id=1554820674602115073 text='RT @gazetadopovo: Bolsonaro afirma que pretende comparecer aos debates eleitorais: https://t.co/1T1he3fiF0\\n\\n@gprepublica #Eleições2022'>, <Tweet id=1554820611976769536 text='RT @gazetadopovo: Bolsonaro afirma que pretende comparecer aos debates eleitorais: https://t.co/1T1he3fiF0\\n\\n@gprepublica #Eleições2022'>, <Tweet id=1554820498118193153 text='@GugaNoblat Engraçado \"Quem não deve, não teme\", MAS estão temendo um papelzinho impresso para auditar os votos... e ai que a gente vê! \\n#VotoImpressoAuditavel #VotoImpresso #VotoAuditavel #Eleicoes2022'>, <Tweet id=1554820310419005442 text='RT @arquivopolitico: 📆 Faltam 60 dias para o 1° turno das #Eleições2022.\\n\\n[1989] Em comício na Candelária, Rio de Janeiro, o presidenciável…'>, <Tweet id=1554820266563235841 text='RT @gazetadopovo: Bolsonaro afirma que pretende comparecer aos debates eleitorais: https://t.co/1T1he3fiF0\\n\\n@gprepublica #Eleições2022'>, <Tweet id=1554820251669381120 text='RT @em_com: Bom dia!\\nVeja os destaques da edição impressa do Estado de Minas desta quarta-feira, 3 de agosto de 2022.\\nLeia mais: https://t.…'>, <Tweet id=1554820251249889280 text='RT @gazetadopovo: Bolsonaro afirma que pretende comparecer aos debates eleitorais: https://t.co/1T1he3fiF0\\n\\n@gprepublica #Eleições2022'>, <Tweet id=1554820245289705474 text='\"Eleger uma forte bancada da esquerda no Congresso\". Taí uma coisa q eu gostaria de ver mas acho q ainda nao vai ser dessa vez.\\n\\n#Eleicoes2022 #congressonacional #esquerda #utopia'>, <Tweet id=1554820233386393600 text='É óbvio que o auxílio Brasil de 600 vai aumentar a popularidade do Bolso, todos os especialistas avisaram #Eleicoes2022'>, <Tweet id=1554820088129196033 text='#Eleições2022: É de conhecimento público que o primeiro turno das eleições acontecerá no dia 2 de outubro. Caso haja segundo turno, a nova votação ocorrerá em 30 de outubro. Mas você sabe o que acontece até lá?? Confira o calendário.👇#Politica https://t.co/KUMVOJAnXJ'>, <Tweet id=1554820035662708739 text='RT @SofiaManzanoPCB: Nosso programa de transição revolucionária defende a convocação de uma Constituinte de Novo Tipo!\\n#TôComSofiaEAntônio…'>, <Tweet id=1554819871073939456 text='RT @em_com: PESQUISA DO INSTITUTO F5 \\nCom apoio de Lula e Kalil, Alexandre Silveira abre vantagem na disputa ao Senado. Em cenário que asso…'>, <Tweet id=1554819759111299074 text='Então caro Molica do Liberdade de Opinião @CNNBrasil, você está dizendo aquilo que Ciro Gomes faz e faz tempo! Ele não só ataca Bolsonaro e Lula quanto mostra seu plano de governo. De forma indireta mostrou qual a melhor opção para o Planalto.\\n#Eleicoes2022'>, <Tweet id=1554819723983994880 text='RT @SofiaManzanoPCB: Nosso programa de transição revolucionária defende a convocação de uma Constituinte de Novo Tipo!\\n#TôComSofiaEAntônio…'>, <Tweet id=1554819624289439746 text='Bolsonaro afirma que pretende comparecer aos debates eleitorais: https://t.co/1T1he3fiF0\\n\\n@gprepublica #Eleições2022'>, <Tweet id=1554819356147826688 text='RT @MP_RJ: Apenas os votos válidos de uma eleição são considerados na contagem final. Se a maioria dos eleitores votar em branco ou nulo, e…'>, <Tweet id=1554819218566041602 text='RT @choquei: 🚨URGENTE: Serviços de Inteligência do Brasil suspeitam de uma organização de um atentado no 7 de setembro planejado pela direi…'>, <Tweet id=1554819110860619776 text='RT @SofiaManzanoPCB: Acesse na íntegra o programa político do @PCBpartidao para as eleições presidenciais de 2022!\\n#SofiaManzano\\n#Eleicoes2…'>, <Tweet id=1554819101456990208 text='RT @SofiaManzanoPCB: Acesse na íntegra o programa político do @PCBpartidao para as eleições presidenciais de 2022!\\n#SofiaManzano\\n#Eleicoes2…'>, <Tweet id=1554818950843682817 text='RT @EncuestasInter4: #EncuestaInternacional Pesquisa Eleições Brasil 2022 🇧🇷: Se a eleição presidencial fosse no próximo domingo, em qual d…'>, <Tweet id=1554818869310660611 text='Requião empobreceu na política, diz TSE https://t.co/IJzigqwQ4I #Requião #Eleicoes2022 @requiaooficial https://t.co/S6Lxbv9u3d'>, <Tweet id=1554818790298472452 text='Quem ganha as eleições presidenciais no 1° turno no #Brasil  ? #enquete #pesquisa #quiz #pergunta #Eleicoes2022 #Eleicoes #Política #Presidente #VeraLucia #SimoneTebet #SofiaManzano #Brasilia #UrnaEletrônica #votoconsciente'>, <Tweet id=1554818358192836610 text='RT @abjdbr: Vemos com atenção esses ataques, reforçando a posição da Coalizão em Defesa do Sistema Eleitoral de que eles não podem ser enca…'>, <Tweet id=1554818153192067075 text='É o crime bem organizado. Isonomia para os cabos. \\n|Convenhamos que quanto à organização não há segredo. 😂😂😂😂😂\\n\\n#Corrupcao #RioDeJaneiro #CaboEleitoral #Eleicoes2022 https://t.co/9JHOuqLGjV'>, <Tweet id=1554818012783562752 text='RT @requiaooficial: Requião vai ao TRE-PR contra Ratinho Jr. por abuso da máquina pública na convenção do PSD https://t.co/Act0mSzTYk #Elei…'>, <Tweet id=1554817893300412417 text='RT @SofiaManzanoPCB: Acesse na íntegra o programa político do @PCBpartidao para as eleições presidenciais de 2022!\\n#SofiaManzano\\n#Eleicoes2…'>, <Tweet id=1554817880818057216 text='RT @SofiaManzanoPCB: Acesse na íntegra o programa político do @PCBpartidao para as eleições presidenciais de 2022!\\n#SofiaManzano\\n#Eleicoes2…'>, <Tweet id=1554817819803516930 text='A brincadeira acabou e é bom que vocês entendam que vai ter segundo turno, infelizmente #Eleicoes2022'>, <Tweet id=1554817768326926336 text='RT @SofiaManzanoPCB: Nosso programa de transição revolucionária defende a convocação de uma Constituinte de Novo Tipo!\\n#TôComSofiaEAntônio…'>, <Tweet id=1554817442580512770 text='Eu só observo todo mundo descendo o cacete no PT por ter rompido a aliança com Freixo por conta da candidatura avulsa de Molon, mas ficando pianinho pro fato do próprio Freixo ter pedido pra Molon cumprir o acordo e apoiar Ceciliano pro Senado 👀👀 #Eleições2022'>, <Tweet id=1554817388188770308 text='Nosso programa de transição revolucionária defende a convocação de uma Constituinte de Novo Tipo!\\n#TôComSofiaEAntônio\\n#SofiaManzanoPCB\\n#PoderPopular\\n#Eleicoes2022'>, <Tweet id=1554817313714626561 text='RT @folha: #Eleições2022 | Em um esforço para minar candidaturas alternativas e aumentar a chance de vitória em primeiro turno, a campanha…'>, <Tweet id=1554817188284039168 text='Vemos com atenção esses ataques, reforçando a posição da Coalizão em Defesa do Sistema Eleitoral de que eles não podem ser encarados apenas como bravatas, mas como um crime ao atentar contra o Estado Democrático de Direito. #ABJD #Eleições2022 #Democracia #UrnasEletrônicas'>, <Tweet id=1554817175881502720 text='RT @SofiaManzanoPCB: Acesse na íntegra o programa político do @PCBpartidao para as eleições presidenciais de 2022!\\n#SofiaManzano\\n#Eleicoes2…'>, <Tweet id=1554817042590703616 text='RT @choquei: 🚨URGENTE: Serviços de Inteligência do Brasil suspeitam de uma organização de um atentado no 7 de setembro planejado pela direi…'>, <Tweet id=1554816887044849664 text='💬 De acordo com Marcelo Amil, o objetivo da Executiva Nacional é impedi-lo de participar da Convenção da Federação Rede/Psol, que será realizada nesta quinta-feira, 4.\\n\\n#OPoder #compartilhe #eleições2022 #psol #amazonas  \\n\\nhttps://t.co/UEgsiwlvyL'>, <Tweet id=1554816802642870278 text='RT @SofiaManzanoPCB: Acesse na íntegra o programa político do @PCBpartidao para as eleições presidenciais de 2022!\\n#SofiaManzano\\n#Eleicoes2…'>], includes={}, errors=[], meta={'newest_id': '1554830051127939073', 'oldest_id': '1554816802642870278', 'result_count': 100, 'next_token': 'b26v89c19zqg8o3fpz5lt5wgafwe8paoj8gyehkflb3p9'})"
      ]
     },
     "execution_count": 49,
     "metadata": {},
     "output_type": "execute_result"
    }
   ],
   "source": [
    "resposta"
   ]
  },
  {
   "cell_type": "code",
   "execution_count": 37,
   "id": "7f9d87a6",
   "metadata": {},
   "outputs": [
    {
     "data": {
      "text/plain": [
       "<sqlite3.Cursor at 0x7f3ab3cda340>"
      ]
     },
     "execution_count": 37,
     "metadata": {},
     "output_type": "execute_result"
    }
   ],
   "source": [
    "#Criando Tabela \n",
    "cur.execute('CREATE TABLE registro(texto TEXT, RT TEXT)')"
   ]
  },
  {
   "cell_type": "code",
   "execution_count": 52,
   "id": "47c98f7e",
   "metadata": {},
   "outputs": [],
   "source": [
    "#inserindo registro na tabela\n",
    "\n",
    "for i in dados:\n",
    "    texto = i.text\n",
    "    if (texto[:2] == 'RT'):\n",
    "        RT = 'S'\n",
    "    else:\n",
    "        RT = 'N'\n",
    "    \n",
    "    cur.execute(\"INSERT INTO registro (texto,RT) VALUES (?,?)\", (texto,RT))\n",
    "\n",
    "con.commit()\n",
    "        "
   ]
  },
  {
   "cell_type": "code",
   "execution_count": 53,
   "id": "5e3a9c16",
   "metadata": {},
   "outputs": [],
   "source": [
    "con.close()"
   ]
  },
  {
   "cell_type": "code",
   "execution_count": 98,
   "id": "df4a0705",
   "metadata": {},
   "outputs": [
    {
     "data": {
      "text/html": [
       "<div>\n",
       "<style scoped>\n",
       "    .dataframe tbody tr th:only-of-type {\n",
       "        vertical-align: middle;\n",
       "    }\n",
       "\n",
       "    .dataframe tbody tr th {\n",
       "        vertical-align: top;\n",
       "    }\n",
       "\n",
       "    .dataframe thead th {\n",
       "        text-align: right;\n",
       "    }\n",
       "</style>\n",
       "<table border=\"1\" class=\"dataframe\">\n",
       "  <thead>\n",
       "    <tr style=\"text-align: right;\">\n",
       "      <th></th>\n",
       "      <th>Texto</th>\n",
       "      <th>RT</th>\n",
       "    </tr>\n",
       "  </thead>\n",
       "  <tbody>\n",
       "    <tr>\n",
       "      <th>0</th>\n",
       "      <td>Dose de reforço no braço... 🙏🏻\\nE me valendo da máxima: ao PT eu tenho críticas (muitas), a Bolsonaro (e tudo o que ele repres...</td>\n",
       "      <td>N</td>\n",
       "    </tr>\n",
       "    <tr>\n",
       "      <th>1</th>\n",
       "      <td>Crime de ódio político, ocultação e destruição de provas, Quem é a polícia Cúmplice da morte de Marcelo? Cometido por um Bolso...</td>\n",
       "      <td>N</td>\n",
       "    </tr>\n",
       "    <tr>\n",
       "      <th>2</th>\n",
       "      <td>RT @BancariosPb: Mais de 200 organizações, encaminharam, uma Carta ao Congresso Nacional, com repúdio aos “constantes ataques”...</td>\n",
       "      <td>S</td>\n",
       "    </tr>\n",
       "    <tr>\n",
       "      <th>3</th>\n",
       "      <td>Quem deseja ter os códigos fontes das #urnaseletronicas talvez desejam frauda-las em edição. Não dá pra confiar nesse povo de ...</td>\n",
       "      <td>N</td>\n",
       "    </tr>\n",
       "    <tr>\n",
       "      <th>4</th>\n",
       "      <td>Faltam 60 dias para o 1º turno das #Eleicoes2022.\\n\\nFaltam 151 dias, 2 horas e 59 minutos para o fim do governo do Medíocre. ...</td>\n",
       "      <td>N</td>\n",
       "    </tr>\n",
       "  </tbody>\n",
       "</table>\n",
       "</div>"
      ],
      "text/plain": [
       "                                                                                                                               Texto  \\\n",
       "0  Dose de reforço no braço... 🙏🏻\\nE me valendo da máxima: ao PT eu tenho críticas (muitas), a Bolsonaro (e tudo o que ele repres...   \n",
       "1  Crime de ódio político, ocultação e destruição de provas, Quem é a polícia Cúmplice da morte de Marcelo? Cometido por um Bolso...   \n",
       "2  RT @BancariosPb: Mais de 200 organizações, encaminharam, uma Carta ao Congresso Nacional, com repúdio aos “constantes ataques”...   \n",
       "3  Quem deseja ter os códigos fontes das #urnaseletronicas talvez desejam frauda-las em edição. Não dá pra confiar nesse povo de ...   \n",
       "4  Faltam 60 dias para o 1º turno das #Eleicoes2022.\\n\\nFaltam 151 dias, 2 horas e 59 minutos para o fim do governo do Medíocre. ...   \n",
       "\n",
       "  RT  \n",
       "0  N  \n",
       "1  N  \n",
       "2  S  \n",
       "3  N  \n",
       "4  N  "
      ]
     },
     "execution_count": 98,
     "metadata": {},
     "output_type": "execute_result"
    }
   ],
   "source": [
    "#Verificando a tabela\n",
    "\n",
    "con = sqlite3.connect('BD_Americanas_SA')\n",
    "cur= con.cursor()\n",
    "\n",
    "#Executar uma consulta\n",
    "\n",
    "cur.execute('SELECT * FROM registro')\n",
    "result = cur.fetchall()\n",
    "df = pd.DataFrame(result)\n",
    "df.rename(columns={0: 'Texto', 1:'RT'}, inplace=True)\n",
    "\n",
    "df.head()"
   ]
  },
  {
   "cell_type": "code",
   "execution_count": null,
   "id": "9c2c64fc",
   "metadata": {},
   "outputs": [],
   "source": []
  }
 ],
 "metadata": {
  "kernelspec": {
   "display_name": "Python 3 (ipykernel)",
   "language": "python",
   "name": "python3"
  },
  "language_info": {
   "codemirror_mode": {
    "name": "ipython",
    "version": 3
   },
   "file_extension": ".py",
   "mimetype": "text/x-python",
   "name": "python",
   "nbconvert_exporter": "python",
   "pygments_lexer": "ipython3",
   "version": "3.9.12"
  },
  "toc": {
   "base_numbering": 1,
   "nav_menu": {},
   "number_sections": true,
   "sideBar": true,
   "skip_h1_title": false,
   "title_cell": "Table of Contents",
   "title_sidebar": "Contents",
   "toc_cell": false,
   "toc_position": {},
   "toc_section_display": true,
   "toc_window_display": false
  },
  "varInspector": {
   "cols": {
    "lenName": 16,
    "lenType": 16,
    "lenVar": 40
   },
   "kernels_config": {
    "python": {
     "delete_cmd_postfix": "",
     "delete_cmd_prefix": "del ",
     "library": "var_list.py",
     "varRefreshCmd": "print(var_dic_list())"
    },
    "r": {
     "delete_cmd_postfix": ") ",
     "delete_cmd_prefix": "rm(",
     "library": "var_list.r",
     "varRefreshCmd": "cat(var_dic_list()) "
    }
   },
   "types_to_exclude": [
    "module",
    "function",
    "builtin_function_or_method",
    "instance",
    "_Feature"
   ],
   "window_display": false
  }
 },
 "nbformat": 4,
 "nbformat_minor": 5
}
